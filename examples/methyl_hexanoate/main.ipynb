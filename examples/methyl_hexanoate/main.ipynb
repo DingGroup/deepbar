{
 "cells": [
  {
   "cell_type": "code",
   "execution_count": 1,
   "metadata": {},
   "outputs": [],
   "source": [
    "import openmm as mm\n",
    "import openmm.app as app\n",
    "import os"
   ]
  },
  {
   "cell_type": "code",
   "execution_count": 2,
   "metadata": {},
   "outputs": [],
   "source": [
    "name = \"methyl_hexanoate\"\n",
    "prmtop = app.AmberPrmtopFile(f\"./structure/{name}.prmtop\")"
   ]
  },
  {
   "cell_type": "code",
   "execution_count": null,
   "metadata": {},
   "outputs": [],
   "source": [
    "def make_system_and_run_simulation(prmtop, environment: str):\n",
    "    if environment == \"vacuum\":\n",
    "        solvent = None\n",
    "    elif environment == \"OBC2\":\n",
    "        solvent = app.OBC2\n",
    "\n",
    "    system = prmtop.createSystem(\n",
    "        nonbondedMethod=app.NoCutoff,\n",
    "        rigidWater=False,\n",
    "        implicitSolvent=solvent,\n",
    "        removeCMMotion=True,\n",
    "    )\n",
    "\n",
    "    inpcrd = app.AmberInpcrdFile(f\"./structure/{name}.inpcrd\")\n",
    "    with open(f\"./structure/{name}_{solvent}.xml\", 'w') as file_handle:\n",
    "        file_handle.write(mm.XmlSerializer.serializeSystem(system))\n",
    "\n",
    "    ## contruct the context\n",
    "    integrator = mm.LangevinIntegrator(300, 1, 0.001)\n",
    "    platform = mm.Platform.getPlatformByName('Reference')\n",
    "    context = mm.Context(system, integrator, platform)\n",
    "    context.setPositions(inpcrd.getPositions())\n",
    "    mm.LocalEnergyMinimizer_minimize(context)\n",
    "\n",
    "    ## run simulations\n",
    "    os.makedirs(f\"./output/{solvent}/traj\", exist_ok = True)\n",
    "    dcdfile_handle = open(f\"./output/{solvent}/traj/traj_md.dcd\", 'wb')\n",
    "    dcdfile = app.DCDFile(dcdfile_handle, prmtop.topology, 1)\n",
    "\n",
    "    num_steps = int(1e7)\n",
    "    save_freq = int(1e3)\n",
    "    num_frames = num_steps//save_freq\n",
    "\n",
    "    for k in range(num_frames):\n",
    "        if (k + 1) % 100 == 0:\n",
    "            print(\"{} output of total {} frames\".format(k, num_frames), flush = True)\n",
    "            \n",
    "        integrator.step(save_freq)\n",
    "        state = context.getState(getPositions = True)\n",
    "        positions = state.getPositions()\n",
    "        dcdfile.writeModel(positions)\n",
    "\n",
    "    dcdfile_handle.close()\n"
   ]
  },
  {
   "cell_type": "code",
   "execution_count": 5,
   "metadata": {},
   "outputs": [
    {
     "data": {
      "text/plain": [
       "'/cluster/tufts/dinglab/xding07/projects_on_github/deepbar/examples/methyl_hexanoate/script'"
      ]
     },
     "execution_count": 5,
     "metadata": {},
     "output_type": "execute_result"
    }
   ],
   "source": []
  },
  {
   "cell_type": "code",
   "execution_count": null,
   "metadata": {},
   "outputs": [],
   "source": []
  }
 ],
 "metadata": {
  "kernelspec": {
   "display_name": "lab",
   "language": "python",
   "name": "python3"
  },
  "language_info": {
   "codemirror_mode": {
    "name": "ipython",
    "version": 3
   },
   "file_extension": ".py",
   "mimetype": "text/x-python",
   "name": "python",
   "nbconvert_exporter": "python",
   "pygments_lexer": "ipython3",
   "version": "3.12.2"
  }
 },
 "nbformat": 4,
 "nbformat_minor": 2
}
